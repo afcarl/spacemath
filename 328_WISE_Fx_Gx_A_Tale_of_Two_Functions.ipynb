{
 "cells": [
  {
   "cell_type": "markdown",
   "metadata": {},
   "source": [
    "# WISE: F(x) g(x): A Tale of Two Functions\n",
    "\n",
    "There are many situations in astrophysics when two distinct functions are multiplied together to form a new function.\n",
    "\n",
    "If there are **N** light bulbs, each with a brightness of **W** watts, then the total brightness, **T** of all these bulbs is just **N** x **W**. For $N = 3$ bulbs and $W = 100$ watts, we have $T = 300$ watts.\n",
    "\n",
    "Suppose $N(m)$ tells us the number of stars in an area of the sky with a brightness of **m**. Let a second function, $S(m)$, represent the number of watts per square meter at the Earth that a star with a brightness of **m** produces. Then $N(m) S(m)$ will be the total number of \\frac{watts}{meter^2} produced by the stars in the sample that have a brightness of **m**.\n",
    "\n",
    "NASA's Wide-Field Infrared Survey Explorer (WISE) satellite is surveying the sky to catalog stars visible at a wavelength of **3.5 microns** in the infrared spectrum. If the differential star count function $N(m) = 0.000005m$ x $m^7$ stars, and the star brightness function is defined by $S(m) = 350$ x $10^{0.4}m$ Janskys. Use this information to answer the following problems:\n",
    "\n",
    "-------------------------------\n",
    "\n",
    "### Question 1\n",
    "\n",
    "Graph the functions $Log(N(m))$ and $Log(S(m))$ as individual histograms over the domain $m:[+6, +16]$ for **integer values** of m.\n",
    "\n",
    "### Answer 1"
   ]
  },
  {
   "cell_type": "code",
   "execution_count": null,
   "metadata": {
    "collapsed": true
   },
   "outputs": [],
   "source": []
  },
  {
   "cell_type": "markdown",
   "metadata": {},
   "source": [
    "--------------------------------\n",
    "\n",
    "### Question 2\n",
    "\n",
    "Graph the product of these functions $N(m) S(m)$ over the domain $m:[+6, +16]$ for **integer values** of $m$.\n",
    "\n",
    "### Answer 2"
   ]
  },
  {
   "cell_type": "code",
   "execution_count": null,
   "metadata": {
    "collapsed": true
   },
   "outputs": [],
   "source": []
  },
  {
   "cell_type": "markdown",
   "metadata": {},
   "source": [
    "-------------------------------\n",
    "\n",
    "### Question 3\n",
    "\n",
    "What is the sum, **T**, of $N(m) S(m)$ for each integer value of $m$ in the domain $m:[+6, +16]$, and how does this sum relate to the area under the curve for $N(m) S(m)$?\n",
    "\n",
    "### Answer 3"
   ]
  },
  {
   "cell_type": "code",
   "execution_count": null,
   "metadata": {
    "collapsed": true
   },
   "outputs": [],
   "source": []
  }
 ],
 "metadata": {
  "kernelspec": {
   "display_name": "Python 3",
   "language": "python",
   "name": "python3"
  },
  "language_info": {
   "codemirror_mode": {
    "name": "ipython",
    "version": 3
   },
   "file_extension": ".py",
   "mimetype": "text/x-python",
   "name": "python",
   "nbconvert_exporter": "python",
   "pygments_lexer": "ipython3",
   "version": "3.6.1"
  }
 },
 "nbformat": 4,
 "nbformat_minor": 2
}
