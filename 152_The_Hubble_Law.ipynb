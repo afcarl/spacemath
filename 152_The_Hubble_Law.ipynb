{
 "cells": [
  {
   "cell_type": "markdown",
   "metadata": {},
   "source": [
    "# The Hubble Law\n",
    "\n",
    "In 1921, astronomer [Edwin Hubble](https://en.wikipedia.org/wiki/Edwin_Hubble) was measuring the speeds of nearby galaxies when he noticed a puzzling thing. When he plotted the speed of the galaxy against its distance, the points from each of the galaxies in his sample seemed to follow an increasing straight line.\n",
    "\n",
    "This turned out to be the first important clue that the universe was expanding. Each galaxy was moving away from its neighbor. The farther away the galaxy was from the [Milky Way](https://en.wikipedia.org/wiki/Milky_Way), the faster it was moving away from us.\n",
    "\n",
    "![](data/152_q0.jpg)\n",
    "\n",
    "The table above shows the distance and speed of 7 galaxies. The distances are given in megaparsecs (mpc). One megaparsec equals **3.26 million light years**. The speed is given in kilometers per second. Note, the speed of light is **300,000 kilometers/second**.\n",
    "\n",
    "------------------------------------\n",
    "\n",
    "### Question 1\n",
    "\n",
    "Create a graph that presents the distance to each galaxy in mpc on the horizontal axis, and the speed in kilometers/second on the vertical axis.\n",
    "\n",
    "### Answer 1"
   ]
  },
  {
   "cell_type": "code",
   "execution_count": 24,
   "metadata": {},
   "outputs": [
    {
     "data": {
      "image/png": "[encoded data removed]",
      "text/plain": [
       "<matplotlib.figure.Figure at 0x18f681bb390>"
      ]
     },
     "metadata": {},
     "output_type": "display_data"
    }
   ],
   "source": [
    "%matplotlib inline\n",
    "\n",
    "import matplotlib.pyplot as plt\n",
    "from matplotlib import pylab\n",
    "from numpy import arange,array,ones\n",
    "from scipy import stats\n",
    "\n",
    "q1_distances = [0.45, 0.9, 0.9, 1.7, 2.0, 2.0, 2.0]\n",
    "q1_speeds = [200, 650, 500, 960, 850, 800, 1090]\n",
    "\n",
    "plt.scatter(q1_distances, q1_speeds)\n",
    "plt.xlabel(\"Distance (mpc)\")\n",
    "plt.ylabel(\"Speed (km/s)\")\n",
    "plt.title(\"Hubble's Law\", fontsize=20)\n",
    "plt.grid()\n",
    "plt.show()"
   ]
  },
  {
   "cell_type": "markdown",
   "metadata": {},
   "source": [
    "-------------------------------------\n",
    "\n",
    "### Question 2\n",
    "\n",
    "What is the range of distances to the galaxies in this sample in light years?\n",
    "\n",
    "### Answer 2\n",
    "\n",
    "The range can be found by converting megaparsecs to light years, and then subtracting the greatest distance, in light years, from the least distance.\n",
    "\n",
    "_Note: 1 parsec = 3.26 light years._"
   ]
  },
  {
   "cell_type": "code",
   "execution_count": 35,
   "metadata": {},
   "outputs": [
    {
     "name": "stdout",
     "output_type": "stream",
     "text": [
      "The minimum distance is 1467000.0 light years, \n",
      "the maximum distance is 6520000.0 light years, \n",
      "and the range is  5053000.0 light years.\n"
     ]
    }
   ],
   "source": [
    "q2_max_distance = max(q1_distances)* 1000000 * 3.26 \n",
    "q2_min_distance = min(q1_distances)* 1000000 * 3.26\n",
    "\n",
    "print(\"The minimum distance is\", q2_min_distance, \n",
    "      \"light years, \\nthe maximum distance is\", q2_max_distance, \n",
    "      \"light years, \\nand the range is \", q2_max_distance - q2_min_distance, \n",
    "      \"light years.\")"
   ]
  },
  {
   "cell_type": "markdown",
   "metadata": {},
   "source": [
    "-------------------------------------\n",
    "\n",
    "### Question 3\n",
    "\n",
    "Does the data show that the distances and speeds of the galaxies are correlated, anti-correlated, or uncorrelated (random)?\n",
    "\n",
    "### Answer 3\n",
    "\n",
    "Because the data points show an increasing speed with increasing distance, the data indicate a **correlated relationship** between these two quantities.\n",
    "\n",
    "---------------------------------------\n",
    "\n",
    "### Question 4\n",
    "\n",
    "Plot the data and determine a best-fit [linear regression](https://en.wikipedia.org/wiki/Linear_regression).\n",
    "\n",
    "### Answer 4"
   ]
  },
  {
   "cell_type": "code",
   "execution_count": 42,
   "metadata": {},
   "outputs": [
    {
     "data": {
      "image/png": "[encoded data removed]",
      "text/plain": [
       "<matplotlib.figure.Figure at 0x18f68215e48>"
      ]
     },
     "metadata": {},
     "output_type": "display_data"
    }
   ],
   "source": [
    "slope, intercept, r_value, p_value, std_err = stats.linregress(q1_distances, q1_speeds)\n",
    "line = []\n",
    "\n",
    "for i in q1_distances:\n",
    "    line.append(slope * i + intercept)\n",
    "    \n",
    "plt.plot(q1_distances,q1_speeds,'o', q1_distances, line)\n",
    "pylab.title(\"Hubble's Law - Linear Regression\")\n",
    "plt.grid()"
   ]
  },
  {
   "cell_type": "markdown",
   "metadata": {},
   "source": [
    "---------------------------------------\n",
    "\n",
    "### Question 5\n",
    "\n",
    "The slope of the line in this plot is called **Hubble's Constant**. What is your estimate for Hubble's Constant from the data you used?\n",
    "\n",
    "### Answer 5"
   ]
  },
  {
   "cell_type": "code",
   "execution_count": 45,
   "metadata": {},
   "outputs": [
    {
     "name": "stdout",
     "output_type": "stream",
     "text": [
      "The regression has a slope of 412.093411176 kilometers/sec per mpc.\n"
     ]
    }
   ],
   "source": [
    "print(\"The regression has a slope of\", slope, \"kilometers/sec per mpc.\")"
   ]
  },
  {
   "cell_type": "markdown",
   "metadata": {},
   "source": [
    "-----------------------------------------\n",
    "\n",
    "### Question 6\n",
    "\n",
    "An astronomer measures the speed of a galaxy as **2500 kilometers/sec**. What would its distance be using your linear regression (now called [Hubble's Law](https://en.wikipedia.org/wiki/Hubble%27s_law))?\n",
    "\n",
    "### Answer 6\n",
    "\n",
    "The regresion equation is: \n",
    "\n",
    "$ speed_\\frac{km}{s} = slope$ x $distance_{mpc} + intercept$\n",
    "\n",
    "Solving for distance, you get:\n",
    "\n",
    "$ distance = \\frac{(speed - intercept)}{slope} $\n",
    "\n",
    "So for a speed equal to 2500 kilometers per second, the distance would be:"
   ]
  },
  {
   "cell_type": "code",
   "execution_count": 47,
   "metadata": {},
   "outputs": [
    {
     "data": {
      "text/plain": [
       "5.737370977534912"
      ]
     },
     "execution_count": 47,
     "metadata": {},
     "output_type": "execute_result"
    }
   ],
   "source": [
    "def q6_distance(speed):\n",
    "    '''Calculates distance in megaparsecs when given speed in kilometers\n",
    "    per second, using the regression equation.'''\n",
    "    distance = (speed - intercept) / slope\n",
    "    return distance\n",
    "\n",
    "q6_distance(2500)"
   ]
  }
 ],
 "metadata": {
  "kernelspec": {
   "display_name": "Python 3",
   "language": "python",
   "name": "python3"
  },
  "language_info": {
   "codemirror_mode": {
    "name": "ipython",
    "version": 3
   },
   "file_extension": ".py",
   "mimetype": "text/x-python",
   "name": "python",
   "nbconvert_exporter": "python",
   "pygments_lexer": "ipython3",
   "version": "3.6.1"
  }
 },
 "nbformat": 4,
 "nbformat_minor": 2
}
