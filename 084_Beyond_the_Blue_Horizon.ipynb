{
 "cells": [
  {
   "cell_type": "markdown",
   "metadata": {
    "collapsed": true
   },
   "source": [
    "# Beyond the Blue Horizon (_Advanced_)\n",
    "\n",
    "An important quantity in planetary exploration is the **distance to the horizon**.  This will, naturally, depend on the _diameter_ of the planet (or asteroid!) and the _height_ of the observer above the ground.\n",
    " \n",
    "Another application of this geometry is in determining the height of a transmission antenna on the Moon in order to ensure proper reception out to a specified distance. \n",
    "\n",
    "![](data/084_q0.JPG)\n",
    "\n",
    "------------------\n",
    "\n",
    "### Problem 1\n",
    "\n",
    "If the radius of the planet is given by **R**, and the height above the surface is given by **h**, use the figure above to derive the formula for the line-of-sight (LOS) horizon distance, **d**, to the horizon tangent point.\n",
    "\n",
    "### Answer 1\n",
    "\n",
    "By the Pythagorean Theorem, $d^2 = (R + h)^2 - R^2$, so $d = (R^2 + 2Rh + h^2 - R^2)^\\frac{1}{2}$ and so $d = (h^2 + 2Rh)^\\frac{1}{2}$. In Python, this could be implemented with a function:"
   ]
  },
  {
   "cell_type": "code",
   "execution_count": 6,
   "metadata": {
    "collapsed": true
   },
   "outputs": [],
   "source": [
    "def line_of_sight(radius, height):\n",
    "    '''Returns the line-of-sight (LOS) horizon distance when given the radius of the planet\n",
    "    in meters and the height about the surface in meters.'''\n",
    "    d = (height**2 + (2 * radius * height))**0.5\n",
    "    return d"
   ]
  },
  {
   "cell_type": "markdown",
   "metadata": {},
   "source": [
    "--------------\n",
    "\n",
    "### Problem 2\n",
    "\n",
    "Derive the distance along the planet, **L**, to the tangent point.\n",
    "\n",
    "### Answer 2\n",
    "\n",
    "From the diagram, we can see that $\\cos(\\beta) = \\frac{R}{R + h}$, and so $L = R * \\arccos(\\frac{R}{R + h}))$. Programmatically, this could be implemented as:"
   ]
  },
  {
   "cell_type": "code",
   "execution_count": 8,
   "metadata": {
    "collapsed": true
   },
   "outputs": [],
   "source": [
    "import math\n",
    "\n",
    "def distance_along_the_planet(radius, height):\n",
    "    '''Returns the distance along the planet to the tangent point when given the radius and \n",
    "    height of the planet in meters.'''\n",
    "    L = radius * math.acos(radius / (radius + height))\n",
    "    return L"
   ]
  },
  {
   "cell_type": "markdown",
   "metadata": {},
   "source": [
    "---------------------------------\n",
    "\n",
    "### Problem 3\n",
    "\n",
    "For a typical human height, **h**, of 2 meters, what is the horizon distance on: \n",
    "\n",
    "* The Earth (**R** = 6,378 km); \n",
    "* The Moon (**R** = 1,738 km)?\n",
    "\n",
    "### Answer 3\n",
    "\n",
    "Use the equation from _Problem 1_. \n",
    "\n",
    "* For Earth, **R** = 6378 km and **h** = 2 meters, so:"
   ]
  },
  {
   "cell_type": "code",
   "execution_count": 14,
   "metadata": {},
   "outputs": [
    {
     "data": {
      "text/plain": [
       "5.0509409024458005"
      ]
     },
     "execution_count": 14,
     "metadata": {},
     "output_type": "execute_result"
    }
   ],
   "source": [
    "# Horizon distance in kilometers (Earth)\n",
    "line_of_sight(6378000, 2) / 1000.0"
   ]
  },
  {
   "cell_type": "markdown",
   "metadata": {},
   "source": [
    "* For The Moon, **R** = 1738km, so:"
   ]
  },
  {
   "cell_type": "code",
   "execution_count": 15,
   "metadata": {},
   "outputs": [
    {
     "data": {
      "text/plain": [
       "2.636665318162318"
      ]
     },
     "execution_count": 15,
     "metadata": {},
     "output_type": "execute_result"
    }
   ],
   "source": [
    "# Horizon distance in kilometers (The Moon)\n",
    "line_of_sight(1738000, 2) / 1000.0"
   ]
  },
  {
   "cell_type": "markdown",
   "metadata": {},
   "source": [
    "-------------------------\n",
    "\n",
    "### Problem 4\n",
    "\n",
    "A radio station has an antenna tower 50 meters tall. What is the maximum line-of-sight (LOS) reception distance in the Moon? \n",
    "\n",
    "### Answer 4\n",
    "\n",
    "Use the equation from _Problem 2_. Since **h** = 50 meters, and **R** = 1738km:"
   ]
  },
  {
   "cell_type": "code",
   "execution_count": 17,
   "metadata": {},
   "outputs": [
    {
     "data": {
      "text/plain": [
       "13.183164773141756"
      ]
     },
     "execution_count": 17,
     "metadata": {},
     "output_type": "execute_result"
    }
   ],
   "source": [
    "# Line-of-sight reception distance in kilometers (Moon)\n",
    "distance_along_the_planet(1738000, 50) / 1000.0"
   ]
  },
  {
   "cell_type": "markdown",
   "metadata": {},
   "source": [
    "---------------------------------\n",
    "\n",
    "### Problem 5\n",
    "\n",
    "What is the rate of change of the lunar LOS radius, **d**, for each additional meter of antenna height in _Problem 4_? \n",
    "\n",
    "### Answer 5\n",
    "\n",
    "Use the chain rule to take the derivative with respect to h of the equation for d in _Problem 1_.\n",
    "\n",
    "Evaluate $\\frac{dd}{dh}$ at $h = 50m$ for $R = 1738km$.\n",
    "\n",
    "Let $U = h^2 + 2Rh$ then $d = U^\\frac{1}{2}$ so $\\frac{dU}{dh} = (\\frac{dd}{dU})(\\frac{du}{dh})$.\n",
    "\n",
    "Then $\\frac{dd}{dh} = +\\frac{1}{2} U^\\frac{-1}{2}$.\n",
    "\n",
    "$\\frac{dU}{dh} = \\frac{+1}{2} (2h + 2R)(h^2 + 2Rh)^\\frac{-1}{2}$\n",
    "\n",
    "For $h = 50m$ and $R = 1738km$, then $\\frac{dd}{dh} =$ :"
   ]
  },
  {
   "cell_type": "code",
   "execution_count": 27,
   "metadata": {},
   "outputs": [
    {
     "data": {
      "text/plain": [
       "131.8360724672729"
      ]
     },
     "execution_count": 27,
     "metadata": {},
     "output_type": "execute_result"
    }
   ],
   "source": [
    "def roc_lunar(radius, height):\n",
    "    '''Rate of change of the lunar radius for each additional meter of antenna height,\n",
    "    given radius and height in meters.'''\n",
    "    dddh = 0.5 * (100 + (2 * radius)) * (2500 + (2 * height * radius)) ** -0.5\n",
    "    return dddh\n",
    "\n",
    "roc_lunar(1738000, 50)"
   ]
  },
  {
   "cell_type": "markdown",
   "metadata": {},
   "source": [
    "--------------------------\n",
    "\n",
    "### Problem 6\n",
    "\n",
    "What is the rate-of-change of the distance to the lunar radio tower, **L**, at the LOS position in _Problem 4_? \n",
    "\n",
    "### Answer 6\n",
    "\n",
    "Let $U = \\frac{R}{R+h}$, then $L = R\\cos^{-1}(U)$.\n",
    "\n",
    "By the chain rule, $\\frac{dL}{dh} = (\\frac{dL}{dU}) * (\\frac{dU}{dh})$.\n",
    "\n",
    "Since $\\frac{dL}{dU} = R * (-1)(1 - u2)^\\frac{1}{2}$ and \n",
    "\n",
    "$\\frac{dU}{dh} = R * (-1) * (R+h)^{-2}$ then \n",
    "\n",
    "$\\frac{dL}{dh} = \\frac{R^2 * (R+h)^{-2} * (R+h)^\\frac{1}{2}}{( (R+h)^2 - R^2)^\\frac{1}{2}}$\n",
    "\n",
    "$\\frac{dL}{dh} = R^2 * \\frac{1}{(R+h)} * (h^2 + 2Rh)^\\frac{-1}{2}$\n",
    "\n",
    "Since $R >> h$, $\\frac{dL}{dh} = \\frac{R}{2Rh}^\\frac{1}{2}$\n",
    "\n",
    "Evaluating this for $R = 1738km$ and $h = 50m$ gives $\\frac{dL}{dh}$:"
   ]
  },
  {
   "cell_type": "code",
   "execution_count": 33,
   "metadata": {},
   "outputs": [
    {
     "data": {
      "text/plain": [
       "131.83322798141597"
      ]
     },
     "execution_count": 33,
     "metadata": {},
     "output_type": "execute_result"
    }
   ],
   "source": [
    "def roc_lunar_dist(radius, height):\n",
    "    '''Rate of change of the distance to the lunar tower at the LOS position, \n",
    "    in meters, given radius and height in meters.'''\n",
    "    dldh = radius / (2*radius*height)**0.5\n",
    "    return dldh\n",
    "\n",
    "roc_lunar_dist(1738000, 50)"
   ]
  }
 ],
 "metadata": {
  "kernelspec": {
   "display_name": "Python 3",
   "language": "python",
   "name": "python3"
  },
  "language_info": {
   "codemirror_mode": {
    "name": "ipython",
    "version": 3
   },
   "file_extension": ".py",
   "mimetype": "text/x-python",
   "name": "python",
   "nbconvert_exporter": "python",
   "pygments_lexer": "ipython3",
   "version": "3.6.1"
  }
 },
 "nbformat": 4,
 "nbformat_minor": 2
}
