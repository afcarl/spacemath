{
 "cells": [
  {
   "cell_type": "markdown",
   "metadata": {},
   "source": [
    "# How High is an Aurora?\n",
    "\n",
    "For thousands of years, people living at northern latitudes had no idea how high up the Aurora Borealis was located. Before the advent of photography in the 1880's, auroral observers tried to determine the height of aurora by the method of triangulation.\n",
    "\n",
    "One of the earliest of these measurements was made by the French scientist Jean-Jacques d'Ortous de Mairan between 1731 and 1751. From two stations 20 km apart, observers measured the angles _A_ and _B_ between the ground and a specific spot on the aurora. From the geometry of the triangle, they estimated that the aurora's height was between **650 to 1,000 kilometers** above the ground. More precise measurements yielded estimates from **70 to 200 kilometers**.\n",
    "\n",
    "--------------------------------------------------------\n",
    "\n",
    "### Question 1\n",
    "\n",
    "Suppose that two observers were located **30 kilometers** apart. Observer A measured an angle of _53 degrees_ and Observer B measured an angle of _114 degrees_. By making a scaled drawing of this triangle, what was the height of the auroral feature they were studying?\n",
    "\n",
    "### Question 2\n",
    "\n",
    "Use a protractor to measure the vertex angle, _P_. What happens to the measurement of angle _P_ if you decrease the 'baseline' distance between the observers to **5 kilometers**?\n",
    "\n",
    "### Question 3\n",
    "\n",
    "What would the measurements of the two angles be if the aurora were located over a spot half-way between the two observers?"
   ]
  },
  {
   "cell_type": "code",
   "execution_count": null,
   "metadata": {
    "collapsed": true
   },
   "outputs": [],
   "source": []
  }
 ],
 "metadata": {
  "kernelspec": {
   "display_name": "Python 3",
   "language": "python",
   "name": "python3"
  },
  "language_info": {
   "codemirror_mode": {
    "name": "ipython",
    "version": 3
   },
   "file_extension": ".py",
   "mimetype": "text/x-python",
   "name": "python",
   "nbconvert_exporter": "python",
   "pygments_lexer": "ipython3",
   "version": "3.6.1"
  }
 },
 "nbformat": 4,
 "nbformat_minor": 2
}
