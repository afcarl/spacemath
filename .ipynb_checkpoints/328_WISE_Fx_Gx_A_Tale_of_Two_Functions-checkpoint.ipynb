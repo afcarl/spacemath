{
 "cells": [
  {
   "cell_type": "markdown",
   "metadata": {},
   "source": [
    "# F(x) g(x): A Tale of Two Functions\n",
    "\n",
    "There are many situations in astrophysics when two distinct functions are multiplied together to form a new function.\n",
    "\n",
    "If there are **N** light bulbs, each with a brightness of **W** watts, then the total brightness, **T** of all these bulbs is just **N** x **W**. For $N = 3$ bulbs and $W = 100$ watts, we have $T = 300$ watts.\n",
    "\n",
    "Suppose $N(m)$ tells us the number of stars in an area of the sky with a brightness of **m**. Let a second function, $S(m)$, represent the number of watts per square meter at the Earth that a star with a brightness of **m** produces. Then $N(m) S(m)$ will be the total number of \\frac{watts}{meter^2} produced by the stars in the sample that have a brightness of **m**.\n",
    "\n"
   ]
  },
  {
   "cell_type": "code",
   "execution_count": null,
   "metadata": {
    "collapsed": true
   },
   "outputs": [],
   "source": []
  }
 ],
 "metadata": {
  "kernelspec": {
   "display_name": "Python 3",
   "language": "python",
   "name": "python3"
  },
  "language_info": {
   "codemirror_mode": {
    "name": "ipython",
    "version": 3
   },
   "file_extension": ".py",
   "mimetype": "text/x-python",
   "name": "python",
   "nbconvert_exporter": "python",
   "pygments_lexer": "ipython3",
   "version": "3.6.1"
  }
 },
 "nbformat": 4,
 "nbformat_minor": 2
}
