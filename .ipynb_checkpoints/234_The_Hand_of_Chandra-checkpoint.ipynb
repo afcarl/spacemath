{
 "cells": [
  {
   "cell_type": "markdown",
   "metadata": {
    "collapsed": true
   },
   "source": [
    "# The Hand of Chandra\n",
    "\n",
    "![](data/234_q0.jpg)\n",
    "\n",
    "A small, dense object only twelve miles in diameter is responsible for this beautiful X-ray nebula that spans 150 light years and resembles a human hand! At the center of this image made by NASA's [Chandra X-ray Observatory](https://en.wikipedia.org/wiki/Chandra_X-ray_Observatory) is a very young and powerful pulsar known as [PSR B1509-58](https://en.wikipedia.org/wiki/PSR_B1509-58).\n",
    "\n",
    "The **pulsar** is a rapidly spinning neutron star which is spewing energy out into the space around it to create complex and intriguing structures, including this one that resembles a large, cosmic hand.\n",
    "\n",
    "Astronomers think that the pulsar and its nebula are about 1,700 years old, and are located about **17.000 light years away** (e.g., **5,000 parsecs**). Finger-like structures extend to the north, apparently energizing knots of material in a neighboring gas cloud known as [RCW-89](http://galaxymap.org/cat/view/rcw/89). The transfer of energy from the wind to these knots makes them glow brightly in X-rays (orange and red features to the upper right).\n",
    "\n",
    "-----------------------------------------\n",
    "\n",
    "### Question 1\n",
    "\n",
    "The _field of view_ is **19 arcminutes** across. Using similar triangles and proportions, if 1 arcminute at a distance of 1,000 parsecs equals a length of 0.3 parsecs, how wide is the image in parsecs?\n",
    "\n",
    "### Answer 1\n",
    "\n",
    "If **0.3 parsecs** seen from a distance of **1,000 parsecs** subtends an angle of **1 arcminute**, then **1 arcminute** at a distance of **5,200 parsecs** will subtend:\n",
    "\n",
    "$ \\frac{x}{0.3} = \\frac{5,200}{1,000} $"
   ]
  },
  {
   "cell_type": "code",
   "execution_count": 2,
   "metadata": {},
   "outputs": [
    {
     "data": {
      "text/plain": [
       "1.56"
      ]
     },
     "execution_count": 2,
     "metadata": {},
     "output_type": "execute_result"
    }
   ],
   "source": [
    "# 1 arcminute, in parsecs.\n",
    "q1_parsecs = (5200 / 1000) * 0.3\n",
    "q1_parsecs"
   ]
  },
  {
   "cell_type": "markdown",
   "metadata": {},
   "source": [
    "If the value of **1 arcminute** is equal to **1.56 parsecs**, then **19 arcminutes** will subtend:\n",
    "\n",
    "$ \\frac{x}{1.56} = \\frac{19}{1} $"
   ]
  },
  {
   "cell_type": "code",
   "execution_count": 6,
   "metadata": {},
   "outputs": [
    {
     "data": {
      "text/plain": [
       "29.64"
      ]
     },
     "execution_count": 6,
     "metadata": {},
     "output_type": "execute_result"
    }
   ],
   "source": [
    "# Width of the image, in parsecs.\n",
    "q1_width = (19 / 1) * 1.56\n",
    "q1_width"
   ]
  },
  {
   "cell_type": "markdown",
   "metadata": {
    "collapsed": true
   },
   "source": [
    "------------------------------------------\n",
    "\n",
    "### Question 2\n",
    "\n",
    "Measure the width of this image with a millimeter ruler. What is the scale of this image in parsecs per millimeter? How far, in light years, is the bright spot in the 'palm' where the pulsar is located from the center of the ring-like knots in RCW 89?\n",
    "\n",
    "(_1 parsec = 3.26 light years. Round your answer to the nearest light year._)\n",
    "\n",
    "### Answer 2\n",
    "\n",
    "The width of the image is about **96 millimeters**. The scale is then:"
   ]
  },
  {
   "cell_type": "code",
   "execution_count": 9,
   "metadata": {
    "collapsed": true
   },
   "outputs": [],
   "source": [
    "# Scale of the image, in parsecs per millimeter.\n",
    "q2_scale = 29.64 / 96"
   ]
  },
  {
   "cell_type": "markdown",
   "metadata": {},
   "source": [
    "The distance from the bright spot to the ring of knots is about **40 millimeters**. At the scale of the image, this equals:"
   ]
  },
  {
   "cell_type": "code",
   "execution_count": 10,
   "metadata": {},
   "outputs": [
    {
     "data": {
      "text/plain": [
       "40.261"
      ]
     },
     "execution_count": 10,
     "metadata": {},
     "output_type": "execute_result"
    }
   ],
   "source": [
    "# Parsecs from the bright spot to the ring of knots.\n",
    "q2_parsecs = 40 * q2_scale\n",
    "\n",
    "# Conversion to light years.\n",
    "q2_parsecs * 3.26 "
   ]
  },
  {
   "cell_type": "markdown",
   "metadata": {
    "collapsed": true
   },
   "source": [
    "------------------------------------------\n",
    "\n",
    "### Question 3\n",
    "\n",
    "If the speed of the plasma is **10,000 km/sec**, how many years did it take for the plasma to reach RCW-89 if 1 light year = $9.5 x 10^{12}$ kilometers, and there are $3.1 x 10^7$ seconds in 1 year?\n",
    "\n",
    "### Answer 3\n",
    "\n",
    "$ time = \\frac{distance}{speed} $\n",
    "\n",
    "First, convert light years to kilometers:"
   ]
  },
  {
   "cell_type": "code",
   "execution_count": 16,
   "metadata": {},
   "outputs": [
    {
     "data": {
      "text/plain": [
       "382479500000000.0"
      ]
     },
     "execution_count": 16,
     "metadata": {},
     "output_type": "execute_result"
    }
   ],
   "source": [
    "q3_distance = 40.261 * (9.5 * 10**12)\n",
    "q3_distance"
   ]
  },
  {
   "cell_type": "markdown",
   "metadata": {},
   "source": [
    "Then, divide the distance by the speed to get the time, and convert to years."
   ]
  },
  {
   "cell_type": "code",
   "execution_count": 19,
   "metadata": {},
   "outputs": [
    {
     "data": {
      "text/plain": [
       "1233.8048387096774"
      ]
     },
     "execution_count": 19,
     "metadata": {},
     "output_type": "execute_result"
    }
   ],
   "source": [
    "q3_time = q3_distance / 10000\n",
    "q3_time / (3.1 * 10**7)"
   ]
  },
  {
   "cell_type": "markdown",
   "metadata": {},
   "source": [
    "Based on our back-of-the-envelope calculations, it took the plasma around 1,234 years to reach RCW-89. Wow!"
   ]
  }
 ],
 "metadata": {
  "kernelspec": {
   "display_name": "Python 3",
   "language": "python",
   "name": "python3"
  },
  "language_info": {
   "codemirror_mode": {
    "name": "ipython",
    "version": 3
   },
   "file_extension": ".py",
   "mimetype": "text/x-python",
   "name": "python",
   "nbconvert_exporter": "python",
   "pygments_lexer": "ipython3",
   "version": "3.6.1"
  }
 },
 "nbformat": 4,
 "nbformat_minor": 2
}
