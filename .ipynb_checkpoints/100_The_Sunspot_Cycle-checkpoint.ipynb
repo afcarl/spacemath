{
 "cells": [
  {
   "cell_type": "markdown",
   "metadata": {},
   "source": [
    "# The Sunspot Cycle - _Endings and Beginnings_\n",
    "\n",
    "The plot below shows the 23rd sunspot cycle, based on the average monthly sunspot counts.\n",
    "\n",
    "![](data/100_q0.jpg)\n",
    "\n",
    "-------------------------------------\n",
    "\n",
    "### Question 1\n",
    "\n",
    "About when (month and year) did Sunspot Cycle 23 begin?\n",
    "\n",
    "### Answer 1\n",
    "\n",
    "Around July 1996.\n",
    "\n",
    "-------------------------------------\n",
    "\n",
    "### Question 2\n",
    "\n",
    "About when (month and year) did Sunspot Cycle 23 reach its maximum?\n",
    "\n",
    "### Answer 2\n",
    "\n",
    "Around July 2000, and a second maximum near September 2001.\n",
    "\n",
    "--------------------------------------\n",
    "\n",
    "### Question 3\n",
    "\n",
    "* What was the average minimum sunspot count during the years of the previous sunspot minimum?\n",
    "* What do you think the average sunspot count will be during the current sunspot minimum?\n",
    "\n",
    "### Answer 3\n"
   ]
  },
  {
   "cell_type": "code",
   "execution_count": 3,
   "metadata": {},
   "outputs": [
    {
     "data": {
      "text/plain": [
       "7.833333333333333"
      ]
     },
     "execution_count": 3,
     "metadata": {},
     "output_type": "execute_result"
    }
   ],
   "source": [
    "# Number of sunspots, according to the graph.\n",
    "q1_sunspots = [5, 8, 6, 6, 12, 8, 13, 1, 0, 16, 13, 6]\n",
    "\n",
    "# Acerage number of sunspots.\n",
    "q1_average = sum(q1_sunspots) / len(q1_sunspots)\n",
    "q1_average"
   ]
  },
  {
   "cell_type": "markdown",
   "metadata": {},
   "source": [
    "--------------------------------------\n",
    "\n",
    "### Question 4\n",
    "\n",
    "What is the number of years between sunspot minima to the nearest tenth of a year?\n",
    "\n",
    "### Answer 4\n",
    "\n",
    "The first minimum was on July 1996, and the current minimum seems to be around March 2007, so the difference is:"
   ]
  },
  {
   "cell_type": "code",
   "execution_count": 4,
   "metadata": {},
   "outputs": [
    {
     "data": {
      "text/plain": [
       "10.670000000000073"
      ]
     },
     "execution_count": 4,
     "metadata": {},
     "output_type": "execute_result"
    }
   ],
   "source": [
    "# Number of years between sunspot minima.\n",
    "2007.25 - 1996.58"
   ]
  },
  {
   "cell_type": "markdown",
   "metadata": {},
   "source": [
    "---------------------------------------\n",
    "\n",
    "### Question 5\n",
    "\n",
    "How long did Cycle 23 take to reach sunspot maximum?\n",
    "\n",
    "### Answer 5\n",
    "\n",
    "The first maximum occurred on July 2000, and the minimum was July 1996. So:"
   ]
  },
  {
   "cell_type": "code",
   "execution_count": 6,
   "metadata": {},
   "outputs": [
    {
     "data": {
      "text/plain": [
       "4"
      ]
     },
     "execution_count": 6,
     "metadata": {},
     "output_type": "execute_result"
    }
   ],
   "source": [
    "# Years to reach sunspot maximum.\n",
    "2000 - 1996"
   ]
  },
  {
   "cell_type": "markdown",
   "metadata": {},
   "source": [
    "----------------------------------------\n",
    "\n",
    "### Question 6\n",
    "\n",
    "When (year, month) do you predict we will reach sunspot maximum during the next cycle (Cycle 24)?\n",
    "\n",
    "### Answer 6\n",
    "\n",
    "If we add 4 years to the current minimum on March 2007, we get **March 2011**.\n",
    "\n",
    "-----------------------------------------\n",
    "\n",
    "### Question 7\n",
    "\n",
    "When (year, month) do you think the next sunspot minimum will occur?\n",
    "\n",
    "### Answer 7\n",
    "\n",
    "From our answer to _Problem 4_, if we add 10.7 years to March 2007, we get:"
   ]
  },
  {
   "cell_type": "code",
   "execution_count": 7,
   "metadata": {},
   "outputs": [
    {
     "data": {
      "text/plain": [
       "2017.95"
      ]
     },
     "execution_count": 7,
     "metadata": {},
     "output_type": "execute_result"
    }
   ],
   "source": [
    "# Projected next sunspot minimum.\n",
    "2007.25 + 10.7"
   ]
  },
  {
   "cell_type": "markdown",
   "metadata": {},
   "source": [
    "which equates to December 2017.\n",
    "\n",
    "-------------------------------------------\n",
    "\n",
    "### Question 8\n",
    "\n",
    "During which part of the sunspot cycle is there:\n",
    "\n",
    "* The greatest month-to-month variation, in the number of sunspots counted?\n",
    "* The least variation in the number of sunspots counted?\n",
    "\n",
    "### Answer 8\n",
    "\n",
    "Looking at the graph, the largest variations from month to month occur near sunspot maximum, and the least variations occur near the sunspot minimum."
   ]
  }
 ],
 "metadata": {
  "kernelspec": {
   "display_name": "Python 3",
   "language": "python",
   "name": "python3"
  },
  "language_info": {
   "codemirror_mode": {
    "name": "ipython",
    "version": 3
   },
   "file_extension": ".py",
   "mimetype": "text/x-python",
   "name": "python",
   "nbconvert_exporter": "python",
   "pygments_lexer": "ipython3",
   "version": "3.6.1"
  }
 },
 "nbformat": 4,
 "nbformat_minor": 2
}
