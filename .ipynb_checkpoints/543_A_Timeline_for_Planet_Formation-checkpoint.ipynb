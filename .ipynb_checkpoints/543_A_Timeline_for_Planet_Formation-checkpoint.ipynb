{
 "cells": [
  {
   "cell_type": "markdown",
   "metadata": {},
   "source": [
    "# A Timeline for Planet Formation\n",
    "\n",
    "For decades, geologists and astronomers have studied the contents of our solar system. They have compared surface features on planets and moons across the solar system, the orbits of asteroids and comets, and the chemical composition and ages for recovered meteorites. From all this effort, and with constant checking of data against mathematical models, scientists have created a timeline for the formation of our solar system.\n",
    "\n",
    "Our solar system began as a collapsing cloud of gas and dust over 4.6 billion years ago. Over the next 600 million years, called by geologists the [Hadean Era](https://en.wikipedia.org/wiki/Hadean), the sun and the planets were formed and Earth's oceans were probably created by cometary impacts. Comets are very rich in water ice.\n",
    "\n",
    "The fossil record on Earth shows that the first bacterial lifeforms emerged around 600 million years after the formation of the solar system. Geologists call this the [Archean Era](https://en.wikipedia.org/wiki/Archean) - the era of ancient life.\n",
    "\n",
    "![](data/543_q0.JPG)\n",
    "\n",
    "-------------------------\n",
    "\n",
    "### Question 1\n",
    "\n",
    "If the Pre-Solar Nebula Era occurred 4.6 billion years ago, how long ago did the Rocky Planet Era end?\n",
    "\n",
    "### Answer 1\n",
    "\n",
    "On the timeline, 0.0 represents a time 4.6 billion years ago, so the Rocky Planet Era ended 100 million years after this, or:"
   ]
  },
  {
   "cell_type": "code",
   "execution_count": 3,
   "metadata": {},
   "outputs": [
    {
     "data": {
      "text/plain": [
       "4.5"
      ]
     },
     "execution_count": 3,
     "metadata": {},
     "output_type": "execute_result"
    }
   ],
   "source": [
    "def age_calculation(years):\n",
    "    '''Returns when an era ended, in billions of years, when given\n",
    "    the time it occurred on the timeline.'''\n",
    "    return 4.6 - years\n",
    "\n",
    "# How long ago did the Rocky Planet Era end, in billions of years?\n",
    "age_calculation(0.1)"
   ]
  },
  {
   "cell_type": "markdown",
   "metadata": {},
   "source": [
    "---------------------------\n",
    "\n",
    "### Question 2\n",
    "\n",
    "How many years from the current time did the Late Heavy Bombardment Era end in the inner solar system?\n",
    "\n",
    "### Answer 2"
   ]
  },
  {
   "cell_type": "code",
   "execution_count": 4,
   "metadata": {},
   "outputs": [
    {
     "data": {
      "text/plain": [
       "3.9999999999999996"
      ]
     },
     "execution_count": 4,
     "metadata": {},
     "output_type": "execute_result"
    }
   ],
   "source": [
    "age_calculation(0.6)"
   ]
  },
  {
   "cell_type": "markdown",
   "metadata": {},
   "source": [
    "-----------------------------\n",
    "\n",
    "### Question 3\n",
    "\n",
    "About how many years ago do the oldest fossils date from on Earth?\n",
    "\n",
    "### Answer 3"
   ]
  },
  {
   "cell_type": "code",
   "execution_count": 5,
   "metadata": {},
   "outputs": [
    {
     "data": {
      "text/plain": [
       "3.8"
      ]
     },
     "execution_count": 5,
     "metadata": {},
     "output_type": "execute_result"
    }
   ],
   "source": [
    "# Billions of years.\n",
    "age_calculation(0.8)"
   ]
  },
  {
   "cell_type": "markdown",
   "metadata": {},
   "source": [
    "------------------------------\n",
    "\n",
    "### Question 4\n",
    "\n",
    "How many years were there between the Planetessimal Era and the end of the Rocky Planet Era?\n",
    "\n",
    "### Answer 4\n",
    "\n",
    "On the timeline, the difference is:"
   ]
  },
  {
   "cell_type": "code",
   "execution_count": 6,
   "metadata": {},
   "outputs": [
    {
     "data": {
      "text/plain": [
       "49"
      ]
     },
     "execution_count": 6,
     "metadata": {},
     "output_type": "execute_result"
    }
   ],
   "source": [
    "100 - 51 # millions of years"
   ]
  },
  {
   "cell_type": "markdown",
   "metadata": {},
   "source": [
    "-------------------------------\n",
    "\n",
    "### Question 5\n",
    "\n",
    "If 80 objects the size of the Moon collided to form Earth during the time period in _Problem 4_, about how many years elapsed between these impact events?\n",
    "\n",
    "### Answer 5\n",
    "\n",
    "The time interval is **49 million years**, so the average time between impacts would be:"
   ]
  },
  {
   "cell_type": "code",
   "execution_count": 8,
   "metadata": {},
   "outputs": [
    {
     "data": {
      "text/plain": [
       "612500.0"
      ]
     },
     "execution_count": 8,
     "metadata": {},
     "output_type": "execute_result"
    }
   ],
   "source": [
    "# Average time between impacts, in years.\n",
    "49000000 / 80 "
   ]
  }
 ],
 "metadata": {
  "kernelspec": {
   "display_name": "Python 3",
   "language": "python",
   "name": "python3"
  },
  "language_info": {
   "codemirror_mode": {
    "name": "ipython",
    "version": 3
   },
   "file_extension": ".py",
   "mimetype": "text/x-python",
   "name": "python",
   "nbconvert_exporter": "python",
   "pygments_lexer": "ipython3",
   "version": "3.6.1"
  }
 },
 "nbformat": 4,
 "nbformat_minor": 2
}
