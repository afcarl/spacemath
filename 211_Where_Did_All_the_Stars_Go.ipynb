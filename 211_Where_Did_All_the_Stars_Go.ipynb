{
 "cells": [
  {
   "cell_type": "markdown",
   "metadata": {},
   "source": [
    "# Where Did All the Stars Go?\n",
    "\n",
    "Have you ever looked closely at NASA photographs from space and wondered where the stars went?\n",
    "\n",
    "![](data/211_q0.jpg)\n",
    "\n",
    "Above is an [Apollo-11](https://en.wikipedia.org/wiki/Apollo_11) photo taken by astronauts on the surface of the moon. Notice the sky has no stars! The retouched photo below gives an impression of the stars that a simple $100 camera would see if it used a _timed exposure_ of about 20 seconds. So why did the very expensive camera used by the Apollo-11 astronauts not show a single star?\n",
    "\n",
    "![](data/211_q1.jpg)\n",
    "\n",
    "The retouched photo below shows what might happen to the lunar surface detail with a 20-second exposure.\n",
    "\n",
    "![](data/211_q2.jpg)\n",
    "\n",
    "A camera light meter measures the brightness of an object. Let's indicate brightness by the unit _cents/second_. For example, a faint object might have a brightness of **10 _cents/second_** while a bright object has **10,000 _cents/second_**. \n",
    "\n",
    "-------------------------\n",
    "\n",
    "### Question 1\n",
    "\n",
    "If the stars in the Apollo photo have a brightness of **2.5 cents/second**, how many cents will be collected in a 20-second time-exposure?\n",
    "\n",
    "### Answer 1\n",
    "\n",
    "Multiply the rate at which the cents are accumulated by the elapsed time."
   ]
  },
  {
   "cell_type": "code",
   "execution_count": 2,
   "metadata": {},
   "outputs": [
    {
     "data": {
      "text/plain": [
       "50.0"
      ]
     },
     "execution_count": 2,
     "metadata": {},
     "output_type": "execute_result"
    }
   ],
   "source": [
    "# Cents accumulated in a 20-second time-exposure.\n",
    "2.5 * 20"
   ]
  },
  {
   "cell_type": "markdown",
   "metadata": {},
   "source": [
    "---------------------------\n",
    "\n",
    "### Question 2\n",
    "\n",
    "If the lunar surface has a brightness of **500 cents/second**, how many cents will be collected in a **20-second** exposure?\n",
    "\n",
    "### Answer 2\n",
    "\n",
    "Multiply the rate at which the cents are accumulated by the elapsed time."
   ]
  },
  {
   "cell_type": "code",
   "execution_count": 3,
   "metadata": {},
   "outputs": [
    {
     "data": {
      "text/plain": [
       "10000"
      ]
     },
     "execution_count": 3,
     "metadata": {},
     "output_type": "execute_result"
    }
   ],
   "source": [
    "# Cents accumulated in a 20-second time-exposure.\n",
    "500 * 20"
   ]
  },
  {
   "cell_type": "markdown",
   "metadata": {},
   "source": [
    "----------------------------\n",
    "\n",
    "### Question 3\n",
    "\n",
    "If the lunar surface is scaled to a camera contrast setting of 100%:\n",
    "\n",
    "* How bright, in cents, is a **1%** contrast change?\n",
    "* What contrast change do the stars represent?\n",
    "\n",
    "### Answer 3\n",
    "\n",
    "* Since 10,000 cents = 100%, that means that 1% will equal:"
   ]
  },
  {
   "cell_type": "code",
   "execution_count": 4,
   "metadata": {},
   "outputs": [
    {
     "data": {
      "text/plain": [
       "100.0"
      ]
     },
     "execution_count": 4,
     "metadata": {},
     "output_type": "execute_result"
    }
   ],
   "source": [
    "# How bright, in cents, is a 1% contrast change?\n",
    "10000 / 100"
   ]
  },
  {
   "cell_type": "markdown",
   "metadata": {},
   "source": [
    "* The stars produce **50 cents**, but in the same amount of time (20 seconds) that the lunar landscape produces **10,000 cents**. This means that the stars represent a contrast change of only:"
   ]
  },
  {
   "cell_type": "code",
   "execution_count": 6,
   "metadata": {},
   "outputs": [
    {
     "data": {
      "text/plain": [
       "0.5"
      ]
     },
     "execution_count": 6,
     "metadata": {},
     "output_type": "execute_result"
    }
   ],
   "source": [
    "# Percent contrast change of stars, compared to lunar surface.\n",
    "100 * (50 / 10000)"
   ]
  },
  {
   "cell_type": "markdown",
   "metadata": {},
   "source": [
    "-----------------------------\n",
    "\n",
    "### Question 4\n",
    "\n",
    "If the image is set to only record contrast changes of 1% or greater to bring out detail on the lunar surface, will the stars be visible? Explain.\n",
    "\n",
    "### Answer 4\n",
    "\n",
    "If **0%** represents black and **100%** represents white, the smallest intensity in the image (**1%**) will correspond to **100 cents**; but the stars represent a contrast change of **0.5%** or **50 cents**, which is smaller than the **100 cents (1%)** contrast that the image can register on this camera setting.\n",
    "\n",
    "Thus, the stars will be replaced by black and will be eliminated from the iamge so that scientists can study the landscape details on the lunar surface instead.\n",
    "\n",
    "-----------------------------\n",
    "\n",
    "### Lagniappe\n",
    "\n",
    "This is an image taken by NASA's [STEREO](https://en.wikipedia.org/wiki/STEREO) satellite of a [coronal mass ejection](https://en.wikipedia.org/wiki/Coronal_mass_ejection) (CME) from the sun. The gas is very faint, so the camera had to be designed to detect only faint light, rather than bright sources.\n",
    "\n",
    "![](data/211_q3.jpg)\n",
    "\n",
    "Notice that the CME image has plenty of background stars that can in some cases be seen through the translucent gases. Had the camera been designed differently, there would have been no stars in the picture, and only the brightest portions of the CME would have been visible in the photograph."
   ]
  }
 ],
 "metadata": {
  "kernelspec": {
   "display_name": "Python 3",
   "language": "python",
   "name": "python3"
  },
  "language_info": {
   "codemirror_mode": {
    "name": "ipython",
    "version": 3
   },
   "file_extension": ".py",
   "mimetype": "text/x-python",
   "name": "python",
   "nbconvert_exporter": "python",
   "pygments_lexer": "ipython3",
   "version": "3.6.1"
  }
 },
 "nbformat": 4,
 "nbformat_minor": 2
}
