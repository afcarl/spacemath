{
 "cells": [
  {
   "cell_type": "markdown",
   "metadata": {
    "collapsed": true
   },
   "source": [
    "# The Ant and the Turn-Table: _Frames of Reference_\n",
    "\n",
    "Figuring out spiral lengths requires a bit of calculus. In the previous problem, we saw that the arc length integral can be written in polar coordinates where the function $y = F(x)$ is replaced by the polar function $r(\\theta)$.\n",
    "\n",
    "Because this formula is completely general, the variable, $\\theta$, can refer to angle, time, or any other independent variable which leads to an arc-like geometry in the dependent variable defined by $r(\\theta)$. Here is an interesting application.\n",
    "\n",
    "An ant takes a journey from the center of a CD-ROM $(r = 0)$ to a point at its edge $(r = 5cm)$ at a leisurely pace of **5 centimeters per minute**. Meanwhile, the turntable is spinning at **1 rotation per minute**.\n",
    "\n",
    "-------------------------------------------\n",
    "\n",
    "### Question 1\n",
    "\n",
    "Draw a sketch, to scale, of a turntable that shows the ant's motion from its own, stationary, perspective.\n",
    "\n",
    "### Answer 1\n",
    "\n",
    "![](data/184_q1.jpg)\n",
    "\n",
    "-------------------------------------------\n",
    "\n",
    "### Question 2\n",
    "\n",
    "Draw a free-hand sketch, to scale, of the turntable that shows the ant's motion from the perspective of an outside, stationary observer.\n",
    "\n",
    "### Answer 2\n",
    "\n",
    "![](data/184_q2.jpg)\n",
    "\n",
    "--------------------------------------------\n",
    "\n",
    "### Question 3\n",
    "\n",
    "What is the equation that describes the **radial motion** of the ant with respect to **time**?\n",
    "\n",
    "### Answer 3\n",
    "\n",
    "The radial motion of the ant with respect to time could be expressed by $R(t) = 5_\\frac{cm}{minute}t$, where $t$ is given in minutes of time. Expressed programmatically, this would look like:"
   ]
  },
  {
   "cell_type": "code",
   "execution_count": 1,
   "metadata": {
    "collapsed": true
   },
   "outputs": [],
   "source": [
    "def ant_radial_motion(time):\n",
    "    '''Returns the radial motion of the ant in centimeters, with respect to time, \n",
    "    when given time in minutes.'''\n",
    "    return 5 * time"
   ]
  },
  {
   "cell_type": "markdown",
   "metadata": {},
   "source": [
    "-----------------------------------\n",
    "\n",
    "### Question 4\n",
    "\n",
    "How far did the ant travel in the radial direction in:\n",
    "\n",
    "* 15 seconds?\n",
    "* 60 seconds?\n",
    "\n",
    "### Answer 4"
   ]
  },
  {
   "cell_type": "code",
   "execution_count": 3,
   "metadata": {},
   "outputs": [
    {
     "data": {
      "text/plain": [
       "1.25"
      ]
     },
     "execution_count": 3,
     "metadata": {},
     "output_type": "execute_result"
    }
   ],
   "source": [
    "# Centimeters traveled in 15 seconds.\n",
    "ant_radial_motion(0.25)"
   ]
  },
  {
   "cell_type": "code",
   "execution_count": 4,
   "metadata": {},
   "outputs": [
    {
     "data": {
      "text/plain": [
       "5"
      ]
     },
     "execution_count": 4,
     "metadata": {},
     "output_type": "execute_result"
    }
   ],
   "source": [
    "# Centimeters traveled in 1 minute.\n",
    "ant_radial_motion(1)"
   ]
  },
  {
   "cell_type": "markdown",
   "metadata": {},
   "source": [
    "-----------------------------------\n",
    "\n",
    "### Question 5\n",
    "\n",
    "Evaluate the arc length integral formula for $S(t)$ to determine the length of the ant's arc between $r = 0$ and $r = 5$ centimeters.\n",
    "\n",
    "### Answer 5\n",
    "\n",
    "$\\frac{dd}{dT} = 5_\\frac{cm}{m}$, so the integrand beocmes, by substitution, $dS = (r^2 + (\\frac{dr}{dt})^2)^{\\frac{1}{2}}$ or $dS = (5T^2 + 5^2)^{\\frac{1}{2}} dT$. This simplifies to $dS = 5(1 + T^2)^{\\frac{1}{2}} dT$. The integral then becomes:\n",
    "\n",
    "$ \\color{green}{S(t) = 5 \\int_0^t \\sqrt{1 + T^2} dT} $\n",
    "\n",
    "This can be integrated using the substitution $T = \\sinh(x) dx$ where $dT = \\cosh(x)dx$ so that $(t + T^2)^{\\frac{1}{2}} dT$ becomes $\\cosh(x)\\cosh(x) dx$, or $\\cosh^2(x)dx$. The integral is a fundamental form whose solution is $\\frac{\\sinh(2x)}{4} + \\frac{x}{2} + C$. Evaluating this from $T = 0$ to $T = t$, one gets the general arc length formula for the ant of $S(t) = 5_{\\frac{cm}{m}} x (\\frac{\\sinh(2t)}{4} + \\frac{t}{2})$ where $t$ is the elapsed time expressed in minutes.\n",
    "\n",
    "To travel from $r = 0$ to $r = 5cm$, the ant takes **1 minute**, so:"
   ]
  },
  {
   "cell_type": "code",
   "execution_count": 10,
   "metadata": {},
   "outputs": [
    {
     "data": {
      "text/plain": [
       "7.033575509808774"
      ]
     },
     "execution_count": 10,
     "metadata": {},
     "output_type": "execute_result"
    }
   ],
   "source": [
    "import math\n",
    "\n",
    "def ant_travel_distance(time):\n",
    "    '''Returns the length of the ant's arc, in centimeters, when given time in minutes.'''\n",
    "    arc_length = 5 * ((math.sinh(2 * time) / 4) + (time / 2))\n",
    "    return arc_length\n",
    "\n",
    "ant_travel_distance(1)"
   ]
  },
  {
   "cell_type": "markdown",
   "metadata": {},
   "source": [
    "------------------------------------------\n",
    "\n",
    "### Inquiry\n",
    "\n",
    "#### Explain:\n",
    "\n",
    "* How can it be that there are two path lengths and travel times in the problem, but there is only one ant?\n",
    "\n",
    "* Which of the two answers is correct?\n",
    "\n",
    "### Answer to Inquiry\n",
    "\n",
    "#### Part 1\n",
    "\n",
    "There are two reference frames, and the movement of the ant will appear different to the two observers. Only in the \"proper\" frame of reference locked to the ant will the movement of the ant appear be \"simple\" as it travels in a straight line from the center to the edge of the CD-ROM, according to $R(T) = 5T$.\n",
    "\n",
    "In all other \"improper\" reference frames, the motion will appear more complicated, and trace out more complex paths because of the action of fictitious forces. For example, if you are sitting in a moving car on the freeway and you drop a ball to the floor, from your perspective, it travels $\\frac{1}{2}$ meter straight down. For someone standing by the side of the road, the ball travels in a long, 100-meter arc. \n",
    "\n",
    "#### Part 2\n",
    "\n",
    "They are both correct, but they apply to two different frames of reference. These two frames of reference are seeing the movement differently because of their relative state of motion."
   ]
  }
 ],
 "metadata": {
  "kernelspec": {
   "display_name": "Python 3",
   "language": "python",
   "name": "python3"
  },
  "language_info": {
   "codemirror_mode": {
    "name": "ipython",
    "version": 3
   },
   "file_extension": ".py",
   "mimetype": "text/x-python",
   "name": "python",
   "nbconvert_exporter": "python",
   "pygments_lexer": "ipython3",
   "version": "3.6.1"
  }
 },
 "nbformat": 4,
 "nbformat_minor": 2
}
