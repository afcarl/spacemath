{
 "cells": [
  {
   "cell_type": "markdown",
   "metadata": {},
   "source": [
    "# Parts per Hundred (pph)\n",
    "\n",
    "A common way of describing the various components of a population of objects is by the number of parts that they represent for every 100, 1000, or 1 million items that are sampled.\n",
    "\n",
    "For instance, if there was a bag of 100 balls, and 5 were red and 95 were white, you would say that the red balls represented 5 parts her hundred (pph) of the sample.\n",
    "\n",
    "This also means that if you had a bag with 300 balls in the same proportions of red and white balls, the red balls would still be **5 parts per hundred** even though there are now **15 red balls** in the sample."
   ]
  },
  {
   "cell_type": "code",
   "execution_count": 3,
   "metadata": {},
   "outputs": [
    {
     "data": {
      "text/plain": [
       "15"
      ]
     },
     "execution_count": 3,
     "metadata": {},
     "output_type": "execute_result"
    }
   ],
   "source": [
    "# Calculates number of red balls for a given quantity and pph.\n",
    "def red_balls(quantity, pph):\n",
    "    return int((pph/100) * quantity)\n",
    "\n",
    "red_balls(300, 5)"
   ]
  },
  {
   "cell_type": "markdown",
   "metadata": {},
   "source": [
    "For each of the situations below, calculate the parts-per-hundred (pph) for each sample.\n",
    "\n",
    "---------------------------\n",
    "\n",
    "### Question 1\n",
    "\n",
    "Your current age compared to one century.\n",
    "\n",
    "### Answer 1\n",
    "\n",
    "If your current age is **28 years**, your lifetime is **28 pph** of a century.\n",
    "\n",
    "----------------------------\n",
    "\n",
    "### Question 2\n",
    "\n",
    "10 cubic centimeters (10cc) of food coloring blended into 1 liter (1000cc) of water.\n",
    "\n",
    "### Answer 2"
   ]
  },
  {
   "cell_type": "code",
   "execution_count": 6,
   "metadata": {},
   "outputs": [
    {
     "data": {
      "text/plain": [
       "1.0"
      ]
     },
     "execution_count": 6,
     "metadata": {},
     "output_type": "execute_result"
    }
   ],
   "source": [
    "def pph_calculation(dilution_volume, total_volume):\n",
    "    '''Calculates the pph given the volume (in cubic centimeters) of the \n",
    "    quantity to be diluted and total volume (in cubic centimeters).'''\n",
    "    return (dilution_volume / total_volume) * 100\n",
    "\n",
    "pph_calculation(10, 1000)"
   ]
  },
  {
   "cell_type": "markdown",
   "metadata": {},
   "source": [
    "-----------------------------\n",
    "\n",
    "### Question 3\n",
    "\n",
    "The 4 brightest stars in the [Pleiades star cluster](https://en.wikipedia.org/wiki/Pleiades), compared to the total population of the cluster consisting of 200 stars.\n",
    "\n",
    "### Answer 3"
   ]
  },
  {
   "cell_type": "code",
   "execution_count": 8,
   "metadata": {},
   "outputs": [
    {
     "data": {
      "text/plain": [
       "2.0"
      ]
     },
     "execution_count": 8,
     "metadata": {},
     "output_type": "execute_result"
    }
   ],
   "source": [
    "def brightness(number_of_stars, total_stars):\n",
    "    '''Calculates brightness in pph of a proportion of stars, given total\n",
    "    number of stars in the cluster.'''\n",
    "    return (number_of_stars / total_stars) * 100\n",
    "\n",
    "brightness(4, 200)"
   ]
  },
  {
   "cell_type": "markdown",
   "metadata": {},
   "source": [
    "----------------------------\n",
    "\n",
    "### Question 4\n",
    "\n",
    "One day compared to one month (30 days).\n",
    "\n",
    "### Answer 4"
   ]
  },
  {
   "cell_type": "code",
   "execution_count": 10,
   "metadata": {},
   "outputs": [
    {
     "data": {
      "text/plain": [
       "3.3333333333333335"
      ]
     },
     "execution_count": 10,
     "metadata": {},
     "output_type": "execute_result"
    }
   ],
   "source": [
    "def month_pph(days):\n",
    "    '''Calculates the pph of a given number of days compared to an average \n",
    "    calendar month (30 days).'''\n",
    "    return (days / 30) * 100\n",
    "\n",
    "month_pph(1)"
   ]
  },
  {
   "cell_type": "markdown",
   "metadata": {},
   "source": [
    "----------------------------\n",
    "\n",
    "### Question 5\n",
    "\n",
    "Five percent of anything.\n",
    "\n",
    "### Answer 5\n",
    "\n",
    "Five percent of anything would be **5 pph**.\n",
    "\n",
    "----------------------------\n",
    "\n",
    "### Question 6\n",
    "\n",
    "The figure below shows the atoms of [hydrogen](https://en.wikipedia.org/wiki/Hydrogen) (H) and [carbon](https://en.wikipedia.org/wiki/Carbon) (C) in the molecule of dimethylcyclohexane. What is the pph of the **carbon atoms** in this molecule?\n",
    "\n",
    "![](data/269_q6.JPG)\n",
    "\n",
    "### Answer 6\n",
    "\n",
    "There are a total of **24 atoms** in this molecule. There are a total of **8 carbon atoms**, so the fraction is:"
   ]
  },
  {
   "cell_type": "code",
   "execution_count": 12,
   "metadata": {},
   "outputs": [
    {
     "data": {
      "text/plain": [
       "33.33333333333333"
      ]
     },
     "execution_count": 12,
     "metadata": {},
     "output_type": "execute_result"
    }
   ],
   "source": [
    "# pph of the total atoms\n",
    "8 / 24 * 100"
   ]
  }
 ],
 "metadata": {
  "kernelspec": {
   "display_name": "Python 3",
   "language": "python",
   "name": "python3"
  },
  "language_info": {
   "codemirror_mode": {
    "name": "ipython",
    "version": 3
   },
   "file_extension": ".py",
   "mimetype": "text/x-python",
   "name": "python",
   "nbconvert_exporter": "python",
   "pygments_lexer": "ipython3",
   "version": "3.6.1"
  }
 },
 "nbformat": 4,
 "nbformat_minor": 2
}
